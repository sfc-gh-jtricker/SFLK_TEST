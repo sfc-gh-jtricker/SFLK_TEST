{
 "metadata": {
  "kernelspec": {
   "display_name": "Streamlit Notebook",
   "name": "streamlit"
  },
  "lastEditStatus": {
   "notebookId": "sn2av7pomar4jk7n7sil",
   "authorId": "166697420978",
   "authorName": "JOHN",
   "authorEmail": "jerry.tricker@snowflake.com",
   "sessionId": "582c654b-b156-4867-af7b-fc4e4b82f772",
   "lastEditTime": 1742916111080
  }
 },
 "nbformat_minor": 5,
 "nbformat": 4,
 "cells": [
  {
   "cell_type": "code",
   "id": "3775908f-ca36-4846-8f38-5adca39217f2",
   "metadata": {
    "language": "python",
    "name": "cell1"
   },
   "source": "# Import python packages\nimport streamlit as st\nimport pandas as pd\nimport _snowflake\n\n# We can also use Snowpark for our analyses!\nfrom snowflake.snowpark.context import get_active_session\nsession = get_active_session()\n",
   "execution_count": null,
   "outputs": []
  },
  {
   "cell_type": "code",
   "id": "77ffa53f-6bb6-4fc0-ba43-0b39f764a5bc",
   "metadata": {
    "language": "sql",
    "name": "cell4"
   },
   "outputs": [],
   "source": "alter notebook temp.public.secrettest\nset secrets = ('my_secret' = TEMP.APITEST.open_ai_api_secret) ; ",
   "execution_count": null
  },
  {
   "cell_type": "code",
   "id": "29aff513-ed1e-40d1-a1d6-e806588dd7bd",
   "metadata": {
    "language": "python",
    "name": "cell2"
   },
   "outputs": [],
   "source": "secret_type = _snowflake.get_secret_type('my_secret')\n\nprint(secret_type)",
   "execution_count": null
  },
  {
   "cell_type": "code",
   "id": "5fdf9282-0dae-49ab-847d-7b3c964e2680",
   "metadata": {
    "language": "python",
    "name": "cell3"
   },
   "outputs": [],
   "source": "token_string=_snowflake.get_generic_secret_string('top_secret')\n\nprint(token_string) ",
   "execution_count": null
  }
 ]
}